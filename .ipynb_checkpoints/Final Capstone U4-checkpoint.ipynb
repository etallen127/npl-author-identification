{
 "cells": [
  {
   "cell_type": "markdown",
   "metadata": {},
   "source": [
    "# NLP Identifying The Author\n",
    "\n",
    "## Introuduction\n",
    "In this notebook, we will use natural language processing to analyze articles from 10 different authors.  The dataset comes from Kaggle.com https://www.kaggle.com/snapcrack/all-the-news it includes 143k articles from 15 different media outlets.  We will be focused on the 10 authors with the most articles published.  Then we will create a supervised learning model to predict which articles belong to which author.  Next, we will use K-means to generate clusters based off of article similarity.\n",
    "\n",
    "### Importing Libs & Data"
   ]
  },
  {
   "cell_type": "code",
   "execution_count": 4,
   "metadata": {
    "collapsed": true
   },
   "outputs": [],
   "source": [
    "import pandas as pd\n",
    "import numpy as np\n",
    "import matplotlib.pyplot as plt\n",
    "import seaborn as sns\n",
    "%matplotlib inline"
   ]
  },
  {
   "cell_type": "code",
   "execution_count": 5,
   "metadata": {
    "collapsed": true
   },
   "outputs": [],
   "source": [
    "import scipy\n",
    "import sklearn\n",
    "import spacy\n",
    "import re\n",
    "from nltk.corpus import gutenberg, stopwords\n",
    "from collections import Counter\n",
    "from sklearn.model_selection import train_test_split"
   ]
  },
  {
   "cell_type": "code",
   "execution_count": 6,
   "metadata": {
    "collapsed": true
   },
   "outputs": [],
   "source": [
    "article = pd.read_csv('articles1.csv')\n",
    "article2 = pd.read_csv('articles2.csv')\n",
    "article3 = pd.read_csv('articles3.csv')"
   ]
  },
  {
   "cell_type": "code",
   "execution_count": 7,
   "metadata": {
    "collapsed": true
   },
   "outputs": [],
   "source": [
    "article.drop(['url'],axis=1,inplace=True)\n",
    "article2.drop(['url'],axis=1,inplace=True)\n",
    "article3.drop(['url'],axis=1,inplace=True)"
   ]
  },
  {
   "cell_type": "code",
   "execution_count": 8,
   "metadata": {
    "collapsed": true
   },
   "outputs": [],
   "source": [
    "article.dropna(inplace=True)\n",
    "article2.dropna(inplace=True)\n",
    "article3.dropna(inplace=True)"
   ]
  },
  {
   "cell_type": "markdown",
   "metadata": {},
   "source": [
    "## Functions"
   ]
  },
  {
   "cell_type": "code",
   "execution_count": 9,
   "metadata": {
    "collapsed": true
   },
   "outputs": [],
   "source": [
    "nlp = spacy.load('en')"
   ]
  },
  {
   "cell_type": "code",
   "execution_count": 10,
   "metadata": {
    "collapsed": true
   },
   "outputs": [],
   "source": [
    "# Taking all the information in the content column and putting it in one place\n",
    "def body_of_work(content):\n",
    "    body = []\n",
    "    for work in content:\n",
    "        body.append(work)\n",
    "    return(body)"
   ]
  },
  {
   "cell_type": "code",
   "execution_count": 11,
   "metadata": {
    "collapsed": true
   },
   "outputs": [],
   "source": [
    "# Utility function for standard text cleaning.\n",
    "def text_cleaner(text):\n",
    "    # Visual inspection identifies a form of punctuation spaCy does not\n",
    "    # recognize: the double dash '--'.  Better get rid of it now!\n",
    "    text = re.sub(r'--',' ',text)\n",
    "    text = re.sub(\"[\\[].*?[\\]]\", \"\", text)\n",
    "    text = ' '.join(text.split())\n",
    "    return text"
   ]
  },
  {
   "cell_type": "code",
   "execution_count": 12,
   "metadata": {
    "collapsed": true
   },
   "outputs": [],
   "source": [
    "from collections import Counter\n",
    "\n",
    "# Utility function to calculate how frequently words appear in the text.\n",
    "def word_frequencies(text, include_stop=True):\n",
    "    \n",
    "    # Build a list of words.\n",
    "    # Strip out punctuation and, optionally, stop words.\n",
    "    words = []\n",
    "    for token in text:\n",
    "        if not token.is_punct and (not token.is_stop or include_stop):\n",
    "            words.append(token.text)\n",
    "            \n",
    "    # Build and return a Counter object containing word counts.\n",
    "    return Counter(words)"
   ]
  },
  {
   "cell_type": "code",
   "execution_count": 13,
   "metadata": {
    "collapsed": true
   },
   "outputs": [],
   "source": [
    "# Utility function to create a list of the 2000 most common words.\n",
    "def bag_of_words(text):\n",
    "    \n",
    "    # Filter out punctuation and stop words.\n",
    "    allwords = [token.lemma_\n",
    "                for token in text\n",
    "                if not token.is_punct\n",
    "                and not token.is_stop]\n",
    "    \n",
    "    # Return the most common words.\n",
    "    return [item[0] for item in Counter(allwords).most_common(250)]"
   ]
  },
  {
   "cell_type": "code",
   "execution_count": 14,
   "metadata": {
    "collapsed": true
   },
   "outputs": [],
   "source": [
    "def bow_features(sentences, common_words):\n",
    "    \n",
    "    # Scaffold the data frame and initialize counts to zero.\n",
    "    df = pd.DataFrame(columns=common_words)\n",
    "    df['text_sentence'] = sentences[0]\n",
    "    df['text_source'] = sentences[1]\n",
    "    df.loc[:, common_words] = 0\n",
    "    \n",
    "    # Process each row, counting the occurrence of words in each sentence.\n",
    "    for i, sentence in enumerate(df['text_sentence']):\n",
    "        \n",
    "        # Convert the sentence to lemmas, then filter out punctuation,\n",
    "        # stop words, and uncommon words.\n",
    "        words = [token.lemma_\n",
    "                 for token in sentence\n",
    "                 if (\n",
    "                     not token.is_punct\n",
    "                     and not token.is_stop\n",
    "                     and token.lemma_ in common_words\n",
    "                 )]\n",
    "        \n",
    "        # Populate the row with word counts.\n",
    "        for word in words:\n",
    "            df.loc[i, word] += 1\n",
    "        \n",
    "        # This counter is just to make sure the kernel didn't hang.\n",
    "        if i % 500 == 0:\n",
    "            print(\"Processing row {}\".format(i))\n",
    "            \n",
    "    return df"
   ]
  },
  {
   "cell_type": "code",
   "execution_count": 15,
   "metadata": {
    "collapsed": true
   },
   "outputs": [],
   "source": [
    "# Function for finding the unique words between authors\n",
    "def word_filter(set1, set2):\n",
    "    keeper=[]\n",
    "    for word in set1:\n",
    "        if not word in set2:\n",
    "            keeper.append(word)\n",
    "        else:\n",
    "            pass\n",
    "        \n",
    "    for word2 in set2:\n",
    "        if not word2 in set1:\n",
    "            keeper.append(word2)\n",
    "        else:\n",
    "            pass\n",
    "        \n",
    "    return(keeper)"
   ]
  },
  {
   "cell_type": "code",
   "execution_count": 16,
   "metadata": {
    "collapsed": true
   },
   "outputs": [],
   "source": [
    "# finding the average article length for a group of articles\n",
    "def avg_len(group):\n",
    "    counter = 0\n",
    "    for article in group:\n",
    "        for word in article:\n",
    "            counter += 1\n",
    "    return(counter/len(article))"
   ]
  },
  {
   "cell_type": "code",
   "execution_count": 18,
   "metadata": {
    "collapsed": true
   },
   "outputs": [],
   "source": [
    "# extracting most common people from text\n",
    "def get_people(people):\n",
    "    return([entity.text for entity in list(people.ents) if entity.label_ == \"PERSON\"])"
   ]
  },
  {
   "cell_type": "code",
   "execution_count": 182,
   "metadata": {
    "collapsed": true
   },
   "outputs": [],
   "source": [
    "# extracting most common events from text\n",
    "def get_event(event):\n",
    "    return([entity.text for entity in list(event.ents) if entity.label_ == \"EVENT\"])"
   ]
  },
  {
   "cell_type": "markdown",
   "metadata": {},
   "source": [
    "Getting top 10 authors from the 3 documents"
   ]
  },
  {
   "cell_type": "markdown",
   "metadata": {},
   "source": [
    "The first dataset has the 10 authors with the most published articles"
   ]
  },
  {
   "cell_type": "code",
   "execution_count": 14,
   "metadata": {},
   "outputs": [
    {
     "data": {
      "text/plain": [
       "Pam Key               1282\n",
       "Charlie Spiering       928\n",
       "Jerome Hudson          806\n",
       "John Hayward           747\n",
       "Daniel Nussbaum        735\n",
       "AWR Hawkins            720\n",
       "Ian Hanchett           647\n",
       "Joel B. Pollak         624\n",
       "Alex Swoyer            604\n",
       "Warner Todd Huston     545\n",
       "Name: author, dtype: int64"
      ]
     },
     "execution_count": 14,
     "metadata": {},
     "output_type": "execute_result"
    }
   ],
   "source": [
    "# Checking how many articles each author has\n",
    "article['author'].value_counts()[1:11]"
   ]
  },
  {
   "cell_type": "code",
   "execution_count": 15,
   "metadata": {},
   "outputs": [
    {
     "data": {
      "text/plain": [
       "Index(['Pam Key', 'Charlie Spiering', 'Jerome Hudson', 'John Hayward',\n",
       "       'Daniel Nussbaum', 'AWR Hawkins', 'Ian Hanchett', 'Joel B. Pollak',\n",
       "       'Alex Swoyer', 'Warner Todd Huston'],\n",
       "      dtype='object')"
      ]
     },
     "execution_count": 15,
     "metadata": {},
     "output_type": "execute_result"
    }
   ],
   "source": [
    "# Listing names\n",
    "article['author'].value_counts()[1:11].index"
   ]
  },
  {
   "cell_type": "markdown",
   "metadata": {},
   "source": [
    "### Taking 545 Articles for Each Author"
   ]
  },
  {
   "cell_type": "code",
   "execution_count": 19,
   "metadata": {
    "collapsed": true
   },
   "outputs": [],
   "source": [
    "# taking 545 articles for each author\n",
    "Pam_Key = article[article['author'] == 'Pam Key'][0:545]"
   ]
  },
  {
   "cell_type": "code",
   "execution_count": 20,
   "metadata": {
    "collapsed": true
   },
   "outputs": [],
   "source": [
    "Charlie_Spiering = article[article['author'] == 'Charlie Spiering'][0:545]"
   ]
  },
  {
   "cell_type": "code",
   "execution_count": 21,
   "metadata": {
    "collapsed": true
   },
   "outputs": [],
   "source": [
    "Jerome_Hudson = article[article['author'] == 'Jerome Hudson'][0:545]"
   ]
  },
  {
   "cell_type": "code",
   "execution_count": 22,
   "metadata": {
    "collapsed": true
   },
   "outputs": [],
   "source": [
    "John_Hayward = article[article['author'] == 'John Hayward'][0:545]"
   ]
  },
  {
   "cell_type": "code",
   "execution_count": 23,
   "metadata": {
    "collapsed": true
   },
   "outputs": [],
   "source": [
    "Daniel_Nussbaum = article[article['author'] == 'Daniel Nussbaum'][0:545]"
   ]
  },
  {
   "cell_type": "code",
   "execution_count": 24,
   "metadata": {
    "collapsed": true
   },
   "outputs": [],
   "source": [
    "AWR_Hawkins = article[article['author'] == 'AWR Hawkins'][0:545]"
   ]
  },
  {
   "cell_type": "code",
   "execution_count": 25,
   "metadata": {
    "collapsed": true
   },
   "outputs": [],
   "source": [
    "Ian_Hanchett = article[article['author'] == 'Ian Hanchett'][0:545]"
   ]
  },
  {
   "cell_type": "code",
   "execution_count": 26,
   "metadata": {
    "collapsed": true
   },
   "outputs": [],
   "source": [
    "Joel_BPollak = article[article['author'] == 'Joel B. Pollak'][0:545]"
   ]
  },
  {
   "cell_type": "code",
   "execution_count": 27,
   "metadata": {
    "collapsed": true
   },
   "outputs": [],
   "source": [
    "Alex_Swoyer = article[article['author'] == 'Alex Swoyer'][0:545]"
   ]
  },
  {
   "cell_type": "code",
   "execution_count": 28,
   "metadata": {
    "collapsed": true
   },
   "outputs": [],
   "source": [
    "Warner_ToddHuston = article[article['author'] == 'Warner Todd Huston']"
   ]
  },
  {
   "cell_type": "code",
   "execution_count": 29,
   "metadata": {
    "collapsed": true
   },
   "outputs": [],
   "source": [
    "# creating dataframe of all the articles\n",
    "top_ten = pd.concat([Pam_Key,Charlie_Spiering,Jerome_Hudson,John_Hayward,Daniel_Nussbaum\n",
    ",AWR_Hawkins,Ian_Hanchett,Joel_BPollak,Alex_Swoyer,Warner_ToddHuston])"
   ]
  },
  {
   "cell_type": "markdown",
   "metadata": {},
   "source": [
    "### Tfid Vectorizer"
   ]
  },
  {
   "cell_type": "code",
   "execution_count": 174,
   "metadata": {},
   "outputs": [
    {
     "name": "stdout",
     "output_type": "stream",
     "text": [
      "Number of features: 7017\n"
     ]
    }
   ],
   "source": [
    "# setting all articles as x\n",
    "X = top_ten['content']\n",
    "\n",
    "from sklearn.feature_extraction.text import TfidfVectorizer\n",
    "\n",
    "# creating vectorizer\n",
    "vectorizer = TfidfVectorizer(max_df=0.75, # drop words that occur in more than half the paragraphs\n",
    "                             min_df=15, # only use words that appear at least twice\n",
    "                             stop_words='english', \n",
    "                             lowercase=True, #convert everything to lower case (since Alice in Wonderland has the HABIT of CAPITALIZING WORDS for EMPHASIS)\n",
    "                             use_idf=True,#we definitely want to use inverse document frequencies in our weighting\n",
    "                             norm=u'l2', #Applies a correction factor so that longer paragraphs and shorter paragraphs get treated equally\n",
    "                             smooth_idf=True #Adds 1 to all document frequencies, as if an extra document existed that used every word once.  Prevents divide-by-zero errors\n",
    "                            )\n",
    "\n",
    "#Applying the vectorizer\n",
    "all_content_tfidf=vectorizer.fit_transform(X)\n",
    "print(\"Number of features: %d\" % all_content_tfidf.get_shape()[1])"
   ]
  },
  {
   "cell_type": "code",
   "execution_count": 175,
   "metadata": {
    "collapsed": true
   },
   "outputs": [],
   "source": [
    "# creating a variable to map numeric values to authors\n",
    "tmap = {'Pam Key':0,'Charlie Spiering':1,'Jerome Hudson':2,'John Hayward':3\n",
    "        ,'Daniel Nussbaum':4,'AWR Hawkins':5,'Ian Hanchett':6,\n",
    "        'Joel B. Pollak':7,'Alex Swoyer':8,'Warner Todd Huston':9}"
   ]
  },
  {
   "cell_type": "code",
   "execution_count": 176,
   "metadata": {
    "collapsed": true
   },
   "outputs": [],
   "source": [
    "# creating target column with numeric columns\n",
    "top_ten['target'] = top_ten['author'].map(tmap)"
   ]
  },
  {
   "cell_type": "code",
   "execution_count": 177,
   "metadata": {
    "collapsed": true
   },
   "outputs": [],
   "source": [
    "# Setting Y and splitting data\n",
    "Y = top_ten['target']\n",
    "\n",
    "X_train, X_test, y_train, y_test = train_test_split(all_content_tfidf, \n",
    "                                                    Y,\n",
    "                                                    test_size=0.25,\n",
    "                                                    random_state=0)"
   ]
  },
  {
   "cell_type": "code",
   "execution_count": 178,
   "metadata": {
    "collapsed": true
   },
   "outputs": [],
   "source": [
    "from sklearn.linear_model import LogisticRegression\n",
    "from sklearn.model_selection import train_test_split\n",
    "from sklearn.model_selection import cross_val_score\n",
    "from sklearn.ensemble import GradientBoostingRegressor"
   ]
  },
  {
   "cell_type": "code",
   "execution_count": 179,
   "metadata": {},
   "outputs": [
    {
     "data": {
      "text/plain": [
       "array([ 0.86281588,  0.87272727,  0.88970588,  0.86666667,  0.88847584])"
      ]
     },
     "execution_count": 179,
     "metadata": {},
     "output_type": "execute_result"
    }
   ],
   "source": [
    "lr = LogisticRegression(solver='newton-cg',multi_class='multinomial')\n",
    "train = lr.fit(X_train, y_train)\n",
    "# 'newton-cg', 'lbfgs', 'liblinear', 'sag', 'saga'\n",
    "\n",
    "cross_val_score(train, X_test, y_test, cv=5)"
   ]
  },
  {
   "cell_type": "code",
   "execution_count": 180,
   "metadata": {
    "collapsed": true
   },
   "outputs": [],
   "source": [
    "gbr = GradientBoostingRegressor()"
   ]
  },
  {
   "cell_type": "code",
   "execution_count": 181,
   "metadata": {},
   "outputs": [
    {
     "data": {
      "text/plain": [
       "array([ 0.86480585,  0.8350294 ,  0.83799002,  0.83775717,  0.82356079])"
      ]
     },
     "execution_count": 181,
     "metadata": {},
     "output_type": "execute_result"
    }
   ],
   "source": [
    "cross_val_score(gbr.fit(X_train, y_train), X_test, y_test, cv=5)"
   ]
  },
  {
   "cell_type": "markdown",
   "metadata": {},
   "source": [
    "## Supervisd Analysis\n",
    "\n",
    "Using a Tfid vector we were able to analysis and weigh the importants of keywords within different authors articles to predict who created the article.  For these models we found and dropped words that occured in more that 25% of the articles then dropped any word that occured less than 15 times.  With the remaining features they were normialized and weighted by frequiency to predict which author wrote the article. The models are slightly overfit, this is due to the number of features in the model but these were the best parameters I found. "
   ]
  },
  {
   "cell_type": "markdown",
   "metadata": {},
   "source": [
    "## K-Means"
   ]
  },
  {
   "cell_type": "code",
   "execution_count": null,
   "metadata": {
    "collapsed": true
   },
   "outputs": [],
   "source": [
    "# setting all articles as x\n",
    "X = top_ten['content']\n",
    "\n",
    "from sklearn.feature_extraction.text import TfidfVectorizer\n",
    "\n",
    "# creating vectorizer\n",
    "vectorizer = TfidfVectorizer(max_df=0.35, # drop words that occur in more than half the paragraphs\n",
    "                             min_df=3, # only use words that appear at least twice\n",
    "                             stop_words='english', \n",
    "                             lowercase=True, #convert everything to lower case (since Alice in Wonderland has the HABIT of CAPITALIZING WORDS for EMPHASIS)\n",
    "                             use_idf=True,#we definitely want to use inverse document frequencies in our weighting\n",
    "                             norm=u'l2', #Applies a correction factor so that longer paragraphs and shorter paragraphs get treated equally\n",
    "                             smooth_idf=True #Adds 1 to all document frequencies, as if an extra document existed that used every word once.  Prevents divide-by-zero errors\n",
    "                            )\n",
    "\n",
    "#Applying the vectorizer\n",
    "all_content_tfidf=vectorizer.fit_transform(X)\n",
    "print(\"Number of features: %d\" % all_content_tfidf.get_shape()[1])"
   ]
  },
  {
   "cell_type": "code",
   "execution_count": 31,
   "metadata": {
    "collapsed": true
   },
   "outputs": [],
   "source": [
    "from sklearn.cluster import KMeans\n",
    "from sklearn.metrics import adjusted_rand_score\n",
    "from sklearn.preprocessing import StandardScaler\n",
    "from sklearn.preprocessing import normalize\n",
    "# Normalize the data.\n",
    "X_norm = normalize(all_content_tfidf)\n",
    "\n",
    "# Calculate predicted values.\n",
    "y_pred = KMeans(n_clusters=10, random_state=42).fit_predict(X_norm)"
   ]
  },
  {
   "cell_type": "code",
   "execution_count": 32,
   "metadata": {
    "collapsed": true
   },
   "outputs": [],
   "source": [
    "# adding clustered group back to top ten dataframe\n",
    "top_ten['km_group'] = y_pred + 1"
   ]
  },
  {
   "cell_type": "code",
   "execution_count": 35,
   "metadata": {},
   "outputs": [
    {
     "data": {
      "image/png": "[encoded data removed]",
      "text/plain": [
       "<matplotlib.figure.Figure at 0x293a6438390>"
      ]
     },
     "metadata": {},
     "output_type": "display_data"
    }
   ],
   "source": [
    "sns.countplot(x='km_group',data=top_ten)\n",
    "plt.title('Number of Articles per Group')\n",
    "plt.show()"
   ]
  },
  {
   "cell_type": "markdown",
   "metadata": {},
   "source": [
    "From this plot we can tell how many articles have been clustered into each group.  Lets take a look at how each group is broken down by author."
   ]
  },
  {
   "cell_type": "code",
   "execution_count": 36,
   "metadata": {},
   "outputs": [
    {
     "data": {
      "image/png": "[encoded data removed]",
      "text/plain": [
       "<matplotlib.figure.Figure at 0x293afe5d710>"
      ]
     },
     "metadata": {},
     "output_type": "display_data"
    }
   ],
   "source": [
    "sns.countplot(x='km_group',data=top_ten, hue='author')\n",
    "plt.title('Groups by Authors')\n",
    "plt.show()"
   ]
  },
  {
   "cell_type": "markdown",
   "metadata": {},
   "source": [
    "Looking at this chart we can tell that our clustering has been able to isolate certain authors into there own groups and cluster others into smaller common groups that have works from everyone. Lets take a more in depth look at the major groups 1,4,6,7, and 8."
   ]
  },
  {
   "cell_type": "code",
   "execution_count": 38,
   "metadata": {
    "collapsed": true
   },
   "outputs": [],
   "source": [
    "group1 = top_ten[top_ten['km_group'] == 1]"
   ]
  },
  {
   "cell_type": "code",
   "execution_count": 41,
   "metadata": {
    "collapsed": true
   },
   "outputs": [],
   "source": [
    "group4 = top_ten[top_ten['km_group'] == 4]"
   ]
  },
  {
   "cell_type": "code",
   "execution_count": 43,
   "metadata": {
    "collapsed": true
   },
   "outputs": [],
   "source": [
    "group6 = top_ten[top_ten['km_group'] == 6]"
   ]
  },
  {
   "cell_type": "code",
   "execution_count": 44,
   "metadata": {
    "collapsed": true
   },
   "outputs": [],
   "source": [
    "group7 = top_ten[top_ten['km_group'] == 7]"
   ]
  },
  {
   "cell_type": "code",
   "execution_count": 45,
   "metadata": {
    "collapsed": true
   },
   "outputs": [],
   "source": [
    "group8 = top_ten[top_ten['km_group'] == 8]"
   ]
  },
  {
   "cell_type": "markdown",
   "metadata": {},
   "source": [
    "## Break Down By Author"
   ]
  },
  {
   "cell_type": "markdown",
   "metadata": {},
   "source": [
    "### Group 1"
   ]
  },
  {
   "cell_type": "code",
   "execution_count": 48,
   "metadata": {},
   "outputs": [
    {
     "data": {
      "image/png": "[encoded data removed]",
      "text/plain": [
       "<matplotlib.figure.Figure at 0x293aff6dda0>"
      ]
     },
     "metadata": {},
     "output_type": "display_data"
    }
   ],
   "source": [
    "sns.countplot(x='km_group',data=group1, hue='author')\n",
    "plt.title('Group 1 Pam Key')\n",
    "plt.show()"
   ]
  },
  {
   "cell_type": "code",
   "execution_count": 41,
   "metadata": {},
   "outputs": [
    {
     "data": {
      "text/plain": [
       "Pam Key               416\n",
       "Charlie Spiering       12\n",
       "Alex Swoyer             3\n",
       "Joel B. Pollak          2\n",
       "Daniel Nussbaum         1\n",
       "Jerome Hudson           1\n",
       "Warner Todd Huston      1\n",
       "Name: author, dtype: int64"
      ]
     },
     "execution_count": 41,
     "metadata": {},
     "output_type": "execute_result"
    }
   ],
   "source": [
    "group1['author'].value_counts()"
   ]
  },
  {
   "cell_type": "markdown",
   "metadata": {},
   "source": [
    "As we can see from the chart and table above, the first group is made up of mainly Pam Keys works. Her works make up 95.4% of the cluster and 76% of her total articles are in this cluster.  Knowing this we can use this cluster to find out a lot more about her works."
   ]
  },
  {
   "cell_type": "code",
   "execution_count": 59,
   "metadata": {},
   "outputs": [
    {
     "data": {
      "text/plain": [
       "233.01863892501083"
      ]
     },
     "execution_count": 59,
     "metadata": {},
     "output_type": "execute_result"
    }
   ],
   "source": [
    "# finding average number of words used in this cluster\n",
    "avg_len(group1['content'])"
   ]
  },
  {
   "cell_type": "code",
   "execution_count": 100,
   "metadata": {
    "collapsed": true
   },
   "outputs": [],
   "source": [
    "# using spacy on cluster to get more details\n",
    "group1_nlp = nlp(text_cleaner(str(body_of_work(group1['content']))))"
   ]
  },
  {
   "cell_type": "code",
   "execution_count": 184,
   "metadata": {
    "scrolled": true
   },
   "outputs": [
    {
     "data": {
      "text/plain": [
       "[('Donald Trump', 256),\n",
       " ('Trump', 72),\n",
       " ('Obama', 40),\n",
       " ('Hillary Clinton', 34),\n",
       " ('Follow Pam Key on Twitter', 29),\n",
       " ('John McCain', 22),\n",
       " ('Chuck Schumer', 16),\n",
       " ('McCain', 16),\n",
       " ('Schumer', 15),\n",
       " ('Jeff Sessions', 14)]"
      ]
     },
     "execution_count": 184,
     "metadata": {},
     "output_type": "execute_result"
    }
   ],
   "source": [
    "# most common people in Pam's articles\n",
    "Counter(get_people(group1_nlp)).most_common(10)"
   ]
  },
  {
   "cell_type": "code",
   "execution_count": 185,
   "metadata": {},
   "outputs": [
    {
     "data": {
      "text/plain": [
       "[('Twitter', 4),\n",
       " ('the Cold War', 2),\n",
       " ('the Iraq War', 2),\n",
       " ('Watergate', 1),\n",
       " ('the Inauguration of the 45th president of', 1),\n",
       " ('Iraq War', 1),\n",
       " ('Rule 19', 1),\n",
       " ('LA Pride', 1),\n",
       " ('World War II', 1),\n",
       " ('his “New Rules”', 1)]"
      ]
     },
     "execution_count": 185,
     "metadata": {},
     "output_type": "execute_result"
    }
   ],
   "source": [
    "# Most common events in articles\n",
    "Counter(get_event(group1_nlp)).most_common(10)"
   ]
  },
  {
   "cell_type": "markdown",
   "metadata": {},
   "source": [
    "As we can see above, with this clustering we are able to tell a lot about Pam Keys tendencies.  We know her articles average length is about 230 words and the people and events she writes about most often. "
   ]
  },
  {
   "cell_type": "markdown",
   "metadata": {},
   "source": [
    "### Group 7"
   ]
  },
  {
   "cell_type": "code",
   "execution_count": 93,
   "metadata": {},
   "outputs": [
    {
     "data": {
      "image/png": "[encoded data removed]",
      "text/plain": [
       "<matplotlib.figure.Figure at 0x293b0328828>"
      ]
     },
     "metadata": {},
     "output_type": "display_data"
    }
   ],
   "source": [
    "sns.countplot(x='km_group',data=group7, hue='author')\n",
    "plt.title('Group 7 Hawkins')\n",
    "plt.show()"
   ]
  },
  {
   "cell_type": "code",
   "execution_count": 94,
   "metadata": {},
   "outputs": [
    {
     "data": {
      "text/plain": [
       "AWR Hawkins           513\n",
       "Ian Hanchett            1\n",
       "Warner Todd Huston      1\n",
       "Alex Swoyer             1\n",
       "Name: author, dtype: int64"
      ]
     },
     "execution_count": 94,
     "metadata": {},
     "output_type": "execute_result"
    }
   ],
   "source": [
    "group7['author'].value_counts()"
   ]
  },
  {
   "cell_type": "code",
   "execution_count": 65,
   "metadata": {},
   "outputs": [
    {
     "data": {
      "text/plain": [
       "963.1205035971223"
      ]
     },
     "execution_count": 65,
     "metadata": {},
     "output_type": "execute_result"
    }
   ],
   "source": [
    "avg_len(group7['content'])"
   ]
  },
  {
   "cell_type": "code",
   "execution_count": 186,
   "metadata": {
    "collapsed": true
   },
   "outputs": [],
   "source": [
    "group7_nlp = nlp(text_cleaner(str(body_of_work(group7['content']))))"
   ]
  },
  {
   "cell_type": "code",
   "execution_count": 189,
   "metadata": {},
   "outputs": [
    {
     "data": {
      "text/plain": [
       "[('AWR Hawkins', 179),\n",
       " ('Obama', 53),\n",
       " ('Clinton', 27),\n",
       " ('Donald Trump', 25),\n",
       " ('Trump', 20),\n",
       " ('Hillary Clinton', 20),\n",
       " ('Bloomberg', 19),\n",
       " ('Sandy Hook', 8),\n",
       " ('Heller', 7),\n",
       " ('Follow AWR Hawkins', 7)]"
      ]
     },
     "execution_count": 189,
     "metadata": {},
     "output_type": "execute_result"
    }
   ],
   "source": [
    "Counter(get_people(group7_nlp)).most_common(10)"
   ]
  },
  {
   "cell_type": "code",
   "execution_count": 190,
   "metadata": {},
   "outputs": [
    {
     "data": {
      "text/plain": [
       "[('the New Year', 2),\n",
       " ('the Second Amendment', 2),\n",
       " ('The New Year’s Eve', 1),\n",
       " ('New Year’s Eve', 1),\n",
       " ('Second Amendment', 1),\n",
       " ('the 2nd Amendment', 1),\n",
       " ('Olympics', 1),\n",
       " ('the TK Show', 1),\n",
       " ('a September 2', 1),\n",
       " ('the Iraq War', 1)]"
      ]
     },
     "execution_count": 190,
     "metadata": {},
     "output_type": "execute_result"
    }
   ],
   "source": [
    "Counter(get_event(group7_nlp)).most_common(10)"
   ]
  },
  {
   "cell_type": "markdown",
   "metadata": {},
   "source": [
    "Now with these clusters we can see how these two authors differ.  For example, Hawkins tends to write much longer articles then Pam and we can see that they cover very different topics in their works.  "
   ]
  },
  {
   "cell_type": "markdown",
   "metadata": {},
   "source": [
    "### Group 8"
   ]
  },
  {
   "cell_type": "code",
   "execution_count": 97,
   "metadata": {},
   "outputs": [
    {
     "data": {
      "image/png": "[encoded data removed]",
      "text/plain": [
       "<matplotlib.figure.Figure at 0x293a978ef60>"
      ]
     },
     "metadata": {},
     "output_type": "display_data"
    }
   ],
   "source": [
    "sns.countplot(x='km_group',data=group8, hue='author')\n",
    "plt.title('Group 8 Ian')\n",
    "plt.show()"
   ]
  },
  {
   "cell_type": "code",
   "execution_count": 95,
   "metadata": {},
   "outputs": [
    {
     "data": {
      "text/plain": [
       "Ian Hanchett          390\n",
       "Daniel Nussbaum         3\n",
       "Jerome Hudson           3\n",
       "Alex Swoyer             3\n",
       "Warner Todd Huston      2\n",
       "Name: author, dtype: int64"
      ]
     },
     "execution_count": 95,
     "metadata": {},
     "output_type": "execute_result"
    }
   ],
   "source": [
    "group8['author'].value_counts()"
   ]
  },
  {
   "cell_type": "code",
   "execution_count": 66,
   "metadata": {},
   "outputs": [
    {
     "data": {
      "text/plain": [
       "64.89837837837838"
      ]
     },
     "execution_count": 66,
     "metadata": {},
     "output_type": "execute_result"
    }
   ],
   "source": [
    "avg_len(group8['content'])"
   ]
  },
  {
   "cell_type": "code",
   "execution_count": 102,
   "metadata": {
    "collapsed": true
   },
   "outputs": [],
   "source": [
    "group8_nlp = nlp(text_cleaner(str(body_of_work(group8['content']))))"
   ]
  },
  {
   "cell_type": "code",
   "execution_count": 193,
   "metadata": {},
   "outputs": [
    {
     "data": {
      "text/plain": [
       "[('Donald Trump', 156),\n",
       " ('Obama', 142),\n",
       " ('Trump', 98),\n",
       " ('Ian Hanchett', 93),\n",
       " ('Hillary Clinton', 77),\n",
       " ('Hillary', 66),\n",
       " ('Follow Ian Hanchett', 55),\n",
       " ('Clinton', 51),\n",
       " ('Bill Maher', 43),\n",
       " ('Bernie Sanders', 40)]"
      ]
     },
     "execution_count": 193,
     "metadata": {},
     "output_type": "execute_result"
    }
   ],
   "source": [
    "Counter(get_people(group8_nlp)).most_common(10)"
   ]
  },
  {
   "cell_type": "code",
   "execution_count": 192,
   "metadata": {},
   "outputs": [
    {
     "data": {
      "text/plain": [
       "[('GOP War Room', 9),\n",
       " ('the Iraq War', 3),\n",
       " ('September 11th', 2),\n",
       " ('America First', 2),\n",
       " ('New Year’s', 2),\n",
       " ('Trump War Room', 1),\n",
       " ('Mueller', 1),\n",
       " ('World War I', 1),\n",
       " ('World War II', 1),\n",
       " ('the “Clinton News Network”', 1)]"
      ]
     },
     "execution_count": 192,
     "metadata": {},
     "output_type": "execute_result"
    }
   ],
   "source": [
    "Counter(get_event(group8_nlp)).most_common(10)"
   ]
  },
  {
   "cell_type": "markdown",
   "metadata": {},
   "source": [
    "### Group 4"
   ]
  },
  {
   "cell_type": "code",
   "execution_count": 45,
   "metadata": {},
   "outputs": [
    {
     "data": {
      "text/plain": [
       "<matplotlib.axes._subplots.AxesSubplot at 0x167b5656e48>"
      ]
     },
     "execution_count": 45,
     "metadata": {},
     "output_type": "execute_result"
    },
    {
     "data": {
      "image/png": "[encoded data removed]",
      "text/plain": [
       "<matplotlib.figure.Figure at 0x167b55e6240>"
      ]
     },
     "metadata": {},
     "output_type": "display_data"
    }
   ],
   "source": [
    "sns.countplot(x='km_group',data=group4, hue='author')"
   ]
  },
  {
   "cell_type": "code",
   "execution_count": 62,
   "metadata": {},
   "outputs": [
    {
     "data": {
      "text/plain": [
       "1477.7614447711046"
      ]
     },
     "execution_count": 62,
     "metadata": {},
     "output_type": "execute_result"
    }
   ],
   "source": [
    "avg_len(group4['content'])"
   ]
  },
  {
   "cell_type": "code",
   "execution_count": 103,
   "metadata": {
    "collapsed": true
   },
   "outputs": [],
   "source": [
    "group4_nlp = nlp(text_cleaner(str(body_of_work(group4['content']))))"
   ]
  },
  {
   "cell_type": "code",
   "execution_count": 194,
   "metadata": {},
   "outputs": [
    {
     "data": {
      "text/plain": [
       "[('Obama', 177),\n",
       " ('Donald Trump', 89),\n",
       " ('Trump', 60),\n",
       " ('Twitter', 41),\n",
       " ('Joel B. Pollak', 36),\n",
       " ('Barack Obama', 29),\n",
       " ('Gorka', 27),\n",
       " ('Hillary Clinton', 25),\n",
       " ('Patriot', 24),\n",
       " ('Hard Truths', 22)]"
      ]
     },
     "execution_count": 194,
     "metadata": {},
     "output_type": "execute_result"
    }
   ],
   "source": [
    "Counter(get_people(group4_nlp)).most_common(10)"
   ]
  },
  {
   "cell_type": "code",
   "execution_count": 195,
   "metadata": {},
   "outputs": [
    {
     "data": {
      "text/plain": [
       "[('Holocaust', 6),\n",
       " ('New Year', 2),\n",
       " ('the Iraq War', 2),\n",
       " ('World War II', 2),\n",
       " ('the War II', 2),\n",
       " ('Twitter', 1),\n",
       " ('Muslim Day', 1),\n",
       " ('The Winnable War', 1),\n",
       " ('the World War II', 1),\n",
       " ('the American Revolution Special on Breitbart News Daily', 1)]"
      ]
     },
     "execution_count": 195,
     "metadata": {},
     "output_type": "execute_result"
    }
   ],
   "source": [
    "Counter(get_event(group4_nlp)).most_common(10)"
   ]
  },
  {
   "cell_type": "markdown",
   "metadata": {},
   "source": [
    "### Group 6"
   ]
  },
  {
   "cell_type": "code",
   "execution_count": 98,
   "metadata": {},
   "outputs": [
    {
     "data": {
      "image/png": "[encoded data removed]",
      "text/plain": [
       "<matplotlib.figure.Figure at 0x293b031e828>"
      ]
     },
     "metadata": {},
     "output_type": "display_data"
    }
   ],
   "source": [
    "sns.countplot(x='km_group',data=group6, hue='author')\n",
    "plt.title('Group 6')\n",
    "plt.show()"
   ]
  },
  {
   "cell_type": "code",
   "execution_count": 96,
   "metadata": {},
   "outputs": [
    {
     "data": {
      "text/plain": [
       "Warner Todd Huston    466\n",
       "Daniel Nussbaum       466\n",
       "Jerome Hudson         456\n",
       "Alex Swoyer           175\n",
       "Joel B. Pollak        164\n",
       "Charlie Spiering      110\n",
       "John Hayward           97\n",
       "AWR Hawkins            22\n",
       "Ian Hanchett            7\n",
       "Pam Key                 3\n",
       "Name: author, dtype: int64"
      ]
     },
     "execution_count": 96,
     "metadata": {},
     "output_type": "execute_result"
    }
   ],
   "source": [
    "group6['author'].value_counts()"
   ]
  },
  {
   "cell_type": "markdown",
   "metadata": {},
   "source": [
    "Since group 6 is our largest cluster and has about the same number of articles from 3 different author I want to break this cluster down further into its own clusters using k-means"
   ]
  },
  {
   "cell_type": "code",
   "execution_count": 54,
   "metadata": {
    "collapsed": true
   },
   "outputs": [],
   "source": [
    "# targeting the 6th cluster\n",
    "X_gp6 = top_ten[top_ten['km_group'] == 6]"
   ]
  },
  {
   "cell_type": "code",
   "execution_count": 87,
   "metadata": {},
   "outputs": [
    {
     "name": "stdout",
     "output_type": "stream",
     "text": [
      "Number of features: 19038\n"
     ]
    }
   ],
   "source": [
    "# setting all articles as x\n",
    "X = X_gp6['content']\n",
    "\n",
    "from sklearn.feature_extraction.text import TfidfVectorizer\n",
    "\n",
    "# creating vectorizer\n",
    "vectorizer = TfidfVectorizer(max_df=0.33, # drop words that occur in more than half the paragraphs\n",
    "                             min_df=5, # only use words that appear at least twice\n",
    "                             stop_words='english', \n",
    "                             lowercase=True, #convert everything to lower case (since Alice in Wonderland has the HABIT of CAPITALIZING WORDS for EMPHASIS)\n",
    "                             use_idf=True,#we definitely want to use inverse document frequencies in our weighting\n",
    "                             norm=u'l2', #Applies a correction factor so that longer paragraphs and shorter paragraphs get treated equally\n",
    "                             smooth_idf=True #Adds 1 to all document frequencies, as if an extra document existed that used every word once.  Prevents divide-by-zero errors\n",
    "                            )\n",
    "\n",
    "#Applying the vectorizer\n",
    "gp6_content_tfidf=vectorizer.fit_transform(X)\n",
    "print(\"Number of features: %d\" % all_content_tfidf.get_shape()[1])"
   ]
  },
  {
   "cell_type": "code",
   "execution_count": 88,
   "metadata": {
    "collapsed": true
   },
   "outputs": [],
   "source": [
    "X_norm = normalize(gp6_content_tfidf)\n",
    "\n",
    "# Calculate predicted values.\n",
    "y_pred_gp6 = KMeans(n_clusters=5, random_state=42).fit_predict(X_norm)"
   ]
  },
  {
   "cell_type": "code",
   "execution_count": 89,
   "metadata": {},
   "outputs": [
    {
     "name": "stderr",
     "output_type": "stream",
     "text": [
      "C:\\Users\\etallen127\\AppData\\Local\\Continuum\\Anaconda3\\lib\\site-packages\\ipykernel_launcher.py:2: SettingWithCopyWarning: \n",
      "A value is trying to be set on a copy of a slice from a DataFrame.\n",
      "Try using .loc[row_indexer,col_indexer] = value instead\n",
      "\n",
      "See the caveats in the documentation: http://pandas.pydata.org/pandas-docs/stable/indexing.html#indexing-view-versus-copy\n",
      "  \n"
     ]
    }
   ],
   "source": [
    "# adding clustered group back to top ten dataframe\n",
    "X_gp6['nkm_group'] = y_pred_gp6 + 1"
   ]
  },
  {
   "cell_type": "code",
   "execution_count": 90,
   "metadata": {},
   "outputs": [
    {
     "data": {
      "text/plain": [
       "<matplotlib.axes._subplots.AxesSubplot at 0x293afc8cba8>"
      ]
     },
     "execution_count": 90,
     "metadata": {},
     "output_type": "execute_result"
    },
    {
     "data": {
      "image/png": "[encoded data removed]",
      "text/plain": [
       "<matplotlib.figure.Figure at 0x293afb6bef0>"
      ]
     },
     "metadata": {},
     "output_type": "display_data"
    }
   ],
   "source": [
    "# breaking the 6th cluster into 5 new clusters\n",
    "sns.countplot(x='nkm_group',data=X_gp6, hue='author')"
   ]
  },
  {
   "cell_type": "markdown",
   "metadata": {},
   "source": [
    "After reclustering our first set of datapoints, we have been able to successfully seperate out most of Warner Todds works into new clusters 4 and 5. We were also able to create a slight divide between Daniel Nussbaum and Jermoe Hudson.  Now if we wanted to we could apply spacy to these new groups and learn more about the authors tendencies. "
   ]
  },
  {
   "cell_type": "markdown",
   "metadata": {},
   "source": [
    "## Dimension Reduction"
   ]
  },
  {
   "cell_type": "code",
   "execution_count": 45,
   "metadata": {
    "collapsed": true
   },
   "outputs": [],
   "source": [
    "from sklearn.decomposition import TruncatedSVD\n",
    "from sklearn.pipeline import make_pipeline\n",
    "from sklearn.preprocessing import Normalizer"
   ]
  },
  {
   "cell_type": "code",
   "execution_count": 46,
   "metadata": {},
   "outputs": [
    {
     "name": "stdout",
     "output_type": "stream",
     "text": [
      "Number of features: 19038\n"
     ]
    }
   ],
   "source": [
    "X = top_ten['content']\n",
    "\n",
    "from sklearn.feature_extraction.text import TfidfVectorizer\n",
    "\n",
    "vectorizer = TfidfVectorizer(max_df=0.35, # drop words that occur in more than half the paragraphs\n",
    "                             min_df=3, # only use words that appear at least twice\n",
    "                             stop_words='english', \n",
    "                             lowercase=True, #convert everything to lower case (since Alice in Wonderland has the HABIT of CAPITALIZING WORDS for EMPHASIS)\n",
    "                             use_idf=True,#we definitely want to use inverse document frequencies in our weighting\n",
    "                             norm=u'l2', #Applies a correction factor so that longer paragraphs and shorter paragraphs get treated equally\n",
    "                             smooth_idf=True #Adds 1 to all document frequencies, as if an extra document existed that used every word once.  Prevents divide-by-zero errors\n",
    "                            )\n",
    "\n",
    "#Applying the vectorizer\n",
    "all_content_tfidf=vectorizer.fit_transform(X)\n",
    "print(\"Number of features: %d\" % all_content_tfidf.get_shape()[1])"
   ]
  },
  {
   "cell_type": "code",
   "execution_count": 47,
   "metadata": {
    "scrolled": true
   },
   "outputs": [
    {
     "name": "stdout",
     "output_type": "stream",
     "text": [
      "Original sentence:   (0, 16659)\t0.0786482884882\n",
      "  (0, 5231)\t0.112150604467\n",
      "  (0, 9783)\t0.0579370821469\n",
      "  (0, 12294)\t0.0828278712787\n",
      "  (0, 9692)\t0.0756268659286\n",
      "  (0, 12296)\t0.0831585071721\n",
      "  (0, 8414)\t0.0675928142461\n",
      "  (0, 5820)\t0.0685518935214\n",
      "  (0, 13653)\t0.167083678502\n",
      "  (0, 7170)\t0.15825769582\n",
      "  (0, 3083)\t0.101316065138\n",
      "  (0, 7241)\t0.0944597626952\n",
      "  (0, 17729)\t0.11855337137\n",
      "  (0, 572)\t0.130162682901\n",
      "  (0, 11802)\t0.121762451852\n",
      "  (0, 672)\t0.144010129978\n",
      "  (0, 18793)\t0.303742231772\n",
      "  (0, 17438)\t0.125315866926\n",
      "  (0, 3902)\t0.0932179217411\n",
      "  (0, 13717)\t0.0759094618812\n",
      "  (0, 16921)\t0.0823630320211\n",
      "  (0, 10649)\t0.101316065138\n",
      "  (0, 10126)\t0.460277649422\n",
      "  (0, 2515)\t0.11855337137\n",
      "  (0, 14301)\t0.109545741829\n",
      "  (0, 12851)\t0.184181914093\n",
      "  (0, 6300)\t0.0932179217411\n",
      "  (0, 12220)\t0.146473117519\n",
      "  (0, 17728)\t0.134633809655\n",
      "  (0, 16152)\t0.3463886787\n",
      "  (0, 16072)\t0.187110963379\n",
      "  (0, 18662)\t0.0789274850591\n",
      "  (0, 6914)\t0.169873657147\n",
      "  (0, 4218)\t0.0868418353221\n",
      "  (0, 17733)\t0.126374246917\n",
      "  (0, 5065)\t0.0590840974085\n",
      "  (0, 16151)\t0.155084375994\n",
      "  (0, 6511)\t0.133891420906\n",
      "  (0, 2759)\t0.0591383355461\n",
      "  (0, 17518)\t0.118751525217\n",
      "  (0, 16752)\t0.16084885938\n",
      "  (0, 13861)\t0.0932179217411\n",
      "  (0, 1372)\t0.151871115886\n",
      "  (0, 16756)\t0.128636549128\n",
      "Tf_idf vector: {'sunday': 0.078648288488151391, 'discussing': 0.11215060446749624, 'know': 0.057937082146896628, 'pam': 0.082827871278735768, 'key': 0.075626865928552264, 'pamkeynen': 0.083158507172076249, 'host': 0.067592814246059382, 'election': 0.068551893521401536, 'question': 0.16708367850212794, 'fox': 0.15825769582017488, 'channel': 0.10131606513836457, 'friends': 0.094459762695182317, 'tweets': 0.11855337136969522, 'accusing': 0.13016268290128324, 'obama': 0.12176245185194792, 'administration': 0.14401012997769796, 'wiretapping': 0.30374223177174692, 'tower': 0.12531586692601915, 'conservative': 0.093217921741066329, 'radio': 0.07590946188116969, 'talk': 0.082363032021095045, 'mark': 0.10131606513836457, 'levin': 0.46027764942153487, 'broke': 0.11855337136969522, 'reporting': 0.10954574182933971, 'pleasure': 0.18418191409256623, 'evidence': 0.093217921741066329, 'overwhelming': 0.1464731175188973, 'tweeting': 0.1346338096545428, 'spying': 0.34638867869981532, 'spied': 0.18711096337878669, 'went': 0.078927485059146638, 'fisa': 0.16987365714745603, 'court': 0.086841835322098299, 'twice': 0.12637424691716548, 'did': 0.059084097408536818, 'spy': 0.15508437599378022, 'extent': 0.13389142090630035, 'campaign': 0.059138335546107423, 'transition': 0.11875152521666768, 'surrogates': 0.16084885937982682, 'read': 0.093217921741066329, 'articles': 0.15187111588587346, 'surveillance': 0.12863654912847078}\n"
     ]
    }
   ],
   "source": [
    "#Reshapes the vectorizer output into something people can read\n",
    "all_content_tfidf_csr = all_content_tfidf.tocsr()\n",
    "\n",
    "#number of paragraphs\n",
    "n = all_content_tfidf_csr.shape[0]\n",
    "#A list of dictionaries, one per paragraph\n",
    "tfidf_bypara = [{} for _ in range(0,n)]\n",
    "#List of features\n",
    "terms = vectorizer.get_feature_names()\n",
    "#for each paragraph, lists the feature words and their tf-idf scores\n",
    "for i, j in zip(*all_content_tfidf_csr.nonzero()):\n",
    "    tfidf_bypara[i][terms[j]] = all_content_tfidf_csr[i, j]\n",
    "\n",
    "#Keep in mind that the log base 2 of 1 is 0, so a tf-idf score of 0 indicates that the word was present once in that sentence.\n",
    "print('Original sentence:', all_content_tfidf[5])\n",
    "print('Tf_idf vector:', tfidf_bypara[5])"
   ]
  },
  {
   "cell_type": "code",
   "execution_count": 48,
   "metadata": {},
   "outputs": [
    {
     "name": "stdout",
     "output_type": "stream",
     "text": [
      "Percent variance captured by all components: 21.1374862323\n",
      "Component 0:\n",
      "0.720665432359\n",
      "Component 1:\n",
      "0.745520709387\n",
      "Component 2:\n",
      "0.603074681777\n",
      "Component 3:\n",
      "0.695927578647\n",
      "Component 4:\n",
      "0.507678335711\n",
      "Component 5:\n",
      "0.656218468037\n",
      "Component 6:\n",
      "0.431048510559\n",
      "Component 7:\n",
      "0.633531928328\n",
      "Component 8:\n",
      "0.504836005204\n",
      "Component 9:\n",
      "0.450510419057\n"
     ]
    }
   ],
   "source": [
    "#Our SVD data reducer.  We are going to reduce the feature space from 1379 to 130.\n",
    "svd= TruncatedSVD(130)\n",
    "lsa = make_pipeline(svd, Normalizer(copy=False))\n",
    "# Run SVD on the training data, then project the training data.\n",
    "all_content_lsa = lsa.fit_transform(all_content_tfidf)\n",
    "\n",
    "variance_explained=svd.explained_variance_ratio_\n",
    "total_variance = variance_explained.sum()\n",
    "print(\"Percent variance captured by all components:\",total_variance*100)\n",
    "\n",
    "#Looking at what sorts of paragraphs our solution considers similar, for the first five identified topics\n",
    "paras_by_component=pd.DataFrame(all_content_lsa,index=X)\n",
    "for i in range(10):\n",
    "    print('Component {}:'.format(i))\n",
    "    print(paras_by_component.loc[:,i].sort_values(ascending=False)[0:25][0])"
   ]
  },
  {
   "cell_type": "markdown",
   "metadata": {},
   "source": [
    "## Analysis for LSA \n",
    "\n",
    "  After reducing our original 19000 features down to 130 new components we then clustered them into 10 sets.  Overall the similarity for the majority of the components were very good.  With 8 of the 10 being greater than 50% and 6 out of 10 being greater than 60%."
   ]
  },
  {
   "cell_type": "markdown",
   "metadata": {
    "collapsed": true
   },
   "source": [
    "# Conclusion\n",
    "\n",
    "After working with this dataset, we were able to create a multinomial regression model that used tfidf to predict which author create an article with an average of 87% accuracy.  We were also able to make a gradient boosted model that had an average of 84% accuracy.  Next, using K-means we were able to generate clusters around specific authors.  In our first set of clusters 4 authors were extracted. Then reclustering some of the groups we were able to extract 3 more.  Last, we used dimensional reduction to reduce are 19,000 idf features down to 130 components. Then clustered the new features into 10 groups.  All but 2 of the clusters had very high similarities. "
   ]
  }
 ],
 "metadata": {
  "kernelspec": {
   "display_name": "Python 3",
   "language": "python",
   "name": "python3"
  },
  "language_info": {
   "codemirror_mode": {
    "name": "ipython",
    "version": 3
   },
   "file_extension": ".py",
   "mimetype": "text/x-python",
   "name": "python",
   "nbconvert_exporter": "python",
   "pygments_lexer": "ipython3",
   "version": "3.6.1"
  }
 },
 "nbformat": 4,
 "nbformat_minor": 2
}
